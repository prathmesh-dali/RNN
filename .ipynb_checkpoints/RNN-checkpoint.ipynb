{
 "cells": [
  {
   "cell_type": "code",
   "execution_count": 3,
   "metadata": {},
   "outputs": [
    {
     "name": "stdout",
     "output_type": "stream",
     "text": [
      "{'\\n': 0, '!': 1, '6': 2, '»': 3, 'Y': 4, 'X': 5, 'j': 6, 'ª': 7, 'u': 8, 'c': 9, '?': 10, 'r': 11, 'V': 12, '©': 13, 'h': 14, 'f': 15, 'J': 16, 'a': 17, 'm': 18, '9': 19, '1': 20, '7': 21, 'w': 22, ':': 23, '4': 24, 'Q': 25, 'B': 26, '\"': 27, ',': 28, 'q': 29, '2': 30, '¿': 31, 'v': 32, 'P': 33, ')': 34, '*': 35, 'A': 36, 'F': 37, 'C': 38, 'y': 39, '3': 40, ' ': 41, 'L': 42, 'Z': 43, 'g': 44, 'l': 45, 'H': 46, \"'\": 47, 'ï': 48, 'N': 49, 'd': 50, 'p': 51, 'Ã': 52, '8': 53, 'b': 54, '\\xa0': 55, 't': 56, 'K': 57, 'R': 58, 'T': 59, 'O': 60, '-': 61, 'e': 62, 'x': 63, 'W': 64, 'o': 65, 'D': 66, 'i': 67, 's': 68, 'I': 69, '=': 70, '.': 71, '(': 72, 'z': 73, '5': 74, '0': 75, 'n': 76, '¤': 77, ';': 78, '/': 79, 'U': 80, 'k': 81, 'M': 82, 'G': 83, 'S': 84, 'E': 85}\n",
      "{0: '\\n', 1: '!', 2: '6', 3: '»', 4: 'Y', 5: 'X', 6: 'j', 7: 'ª', 8: 'u', 9: 'c', 10: '?', 11: 'r', 12: 'V', 13: '©', 14: 'h', 15: 'f', 16: 'J', 17: 'a', 18: 'm', 19: '9', 20: '1', 21: '7', 22: 'w', 23: ':', 24: '4', 25: 'Q', 26: 'B', 27: '\"', 28: ',', 29: 'q', 30: '2', 31: '¿', 32: 'v', 33: 'P', 34: ')', 35: '*', 36: 'A', 37: 'F', 38: 'C', 39: 'y', 40: '3', 41: ' ', 42: 'L', 43: 'Z', 44: 'g', 45: 'l', 46: 'H', 47: \"'\", 48: 'ï', 49: 'N', 50: 'd', 51: 'p', 52: 'Ã', 53: '8', 54: 'b', 55: '\\xa0', 56: 't', 57: 'K', 58: 'R', 59: 'T', 60: 'O', 61: '-', 62: 'e', 63: 'x', 64: 'W', 65: 'o', 66: 'D', 67: 'i', 68: 's', 69: 'I', 70: '=', 71: '.', 72: '(', 73: 'z', 74: '5', 75: '0', 76: 'n', 77: '¤', 78: ';', 79: '/', 80: 'U', 81: 'k', 82: 'M', 83: 'G', 84: 'S', 85: 'E'}\n"
     ]
    }
   ],
   "source": [
    "import tensorflow as tf\n",
    "K = tf.keras\n",
    "\n",
    "with open('warpeace_input.txt','r') as f:\n",
    "    data = f.read()\n",
    "\n",
    "uniq_char = set(data)\n",
    "\n",
    "idx2char = dict()\n",
    "char2idx = dict()\n",
    "\n",
    "for i,x in enumerate(uniq_char):\n",
    "    idx2char[i] = x\n",
    "    char2idx[x] = i\n",
    "\n",
    "print(char2idx)\n",
    "print(idx2char)"
   ]
  },
  {
   "cell_type": "code",
   "execution_count": 4,
   "metadata": {},
   "outputs": [
    {
     "name": "stdout",
     "output_type": "stream",
     "text": [
      "86\n"
     ]
    }
   ],
   "source": [
    "VOCAB_SIZE = len(char2idx)\n",
    "print(VOCAB_SIZE)"
   ]
  },
  {
   "cell_type": "code",
   "execution_count": 5,
   "metadata": {},
   "outputs": [],
   "source": [
    "# Hyper-parameter: size of context window.\n",
    "SEQ_LEN = 32\n",
    "STEP = 3"
   ]
  },
  {
   "cell_type": "code",
   "execution_count": 6,
   "metadata": {},
   "outputs": [
    {
     "name": "stdout",
     "output_type": "stream",
     "text": [
      "# Of sequences 1065400\n"
     ]
    }
   ],
   "source": [
    "input_sequence = []\n",
    "output_char = []\n",
    "\n",
    "for start in range(0,len(data)-SEQ_LEN,STEP):\n",
    "    input_sequence.append(data[start:start+SEQ_LEN])\n",
    "    output_char.append(data[start+SEQ_LEN])\n",
    "print('# Of sequences',len(input_sequence))"
   ]
  },
  {
   "cell_type": "code",
   "execution_count": 7,
   "metadata": {},
   "outputs": [],
   "source": [
    "NB_SEQ = len(input_sequence)"
   ]
  },
  {
   "cell_type": "code",
   "execution_count": 8,
   "metadata": {},
   "outputs": [],
   "source": [
    "import numpy as np\n",
    "# With the default dtype=float these arrays will cause OOM.\n",
    "X_one_hot = np.zeros([NB_SEQ,SEQ_LEN,VOCAB_SIZE],dtype=np.int8)\n",
    "y_one_hot = np.zeros([NB_SEQ,VOCAB_SIZE],dtype=np.int8)"
   ]
  },
  {
   "cell_type": "code",
   "execution_count": 9,
   "metadata": {},
   "outputs": [],
   "source": [
    "for i in range(NB_SEQ):\n",
    "    # Iterate over all sequences.\n",
    "    # Convert each sequence to indices in the vocabulary.\n",
    "    seq_as_char = input_sequence[i]\n",
    "    seq_as_idx  = [char2idx[c] for c in seq_as_char]\n",
    "    # Convert each character in the sequence to one-hot representation.\n",
    "    for seq_id,char_idx in enumerate(seq_as_idx):\n",
    "        X_one_hot[i,seq_id,char_idx] = 1\n",
    "    y_one_hot[i,char2idx[output_char[i]]] = 1"
   ]
  },
  {
   "cell_type": "code",
   "execution_count": 10,
   "metadata": {},
   "outputs": [],
   "source": [
    "HIDDEN_STATE_SZ = 512\n",
    "NB_LAYERS = 3"
   ]
  },
  {
   "cell_type": "code",
   "execution_count": 22,
   "metadata": {},
   "outputs": [],
   "source": [
    "\n",
    "\n",
    "model = K.models.Sequential()\n",
    "model.add(K.layers.LSTM(HIDDEN_STATE_SZ, input_shape=(SEQ_LEN, VOCAB_SIZE), return_sequences=True))\n",
    "for i in range(NB_LAYERS - 2):\n",
    "    model.add(K.layers.LSTM(HIDDEN_STATE_SZ, return_sequences=True))\n",
    "model.add(K.layers.LSTM(HIDDEN_STATE_SZ))\n",
    "model.add(K.layers.Dense(VOCAB_SIZE))\n",
    "model.add(K.layers.Activation('softmax'))\n",
    "model.compile(loss=\"categorical_crossentropy\", optimizer=\"rmsprop\")"
   ]
  },
  {
   "cell_type": "code",
   "execution_count": null,
   "metadata": {},
   "outputs": [
    {
     "name": "stdout",
     "output_type": "stream",
     "text": [
      "Epoch 1/1\n",
      "  22016/1065400 [..............................] - ETA: 23:10:56 - loss: 3.0816"
     ]
    }
   ],
   "source": [
    "model.fit(X_one_hot,y_one_hot,batch_size=128)"
   ]
  },
  {
   "cell_type": "code",
   "execution_count": null,
   "metadata": {},
   "outputs": [],
   "source": [
    "# Used from Keras LSTM example:\n",
    "#https://github.com/keras-team/keras/blob/master/examples/lstm_text_generation.py\n",
    "def sample(preds, temperature=1.0):\n",
    "    # helper function to sample an index from a probability array\n",
    "    preds = np.asarray(preds).astype('float64')\n",
    "    preds = np.log(preds) / temperature\n",
    "    exp_preds = np.exp(preds)\n",
    "    preds = exp_preds / np.sum(exp_preds)\n",
    "    probas = np.random.multinomial(1, preds, 1)\n",
    "    return np.argmax(probas)\n",
    "\n",
    "#https://github.com/keras-team/keras/blob/master/examples/lstm_text_generation.py\n",
    "def on_epoch_end(epoch, logs):\n",
    "    # Function invoked at end of each epoch. Prints generated text.\n",
    "    print()\n",
    "    print('----- Generating text after Epoch: %d' % epoch)\n",
    "\n",
    "    start_index = random.randint(0, len(text) - SEQ_LEN - 1)\n",
    "    for diversity in [0.2, 0.5, 1.0, 1.2]:\n",
    "        print('----- diversity:', diversity)\n",
    "\n",
    "        generated = ''\n",
    "        sentence = data[start_index: start_index + SEQ_LEN]\n",
    "        generated += sentence\n",
    "        print('----- Generating with seed: \"' + sentence + '\"')\n",
    "        sys.stdout.write(generated)\n",
    "\n",
    "        for i in range(400):\n",
    "            x_pred = np.zeros((1, SEQ_LEN, len(chars)))\n",
    "            for t, char in enumerate(sentence):\n",
    "                x_pred[0, t, char2idx[char]] = 1.\n",
    "\n",
    "            preds = model.predict(x_pred, verbose=0)[0]\n",
    "            next_index = sample(preds, diversity)\n",
    "            next_char = idx2char[next_index]\n",
    "\n",
    "            generated += next_char\n",
    "            sentence = sentence[1:] + next_char\n",
    "\n",
    "            sys.stdout.write(next_char)\n",
    "            sys.stdout.flush()\n",
    "print()"
   ]
  },
  {
   "cell_type": "code",
   "execution_count": null,
   "metadata": {},
   "outputs": [],
   "source": [
    "print_callback = LambdaCallback(on_epoch_end=on_epoch_end)\n",
    "model.fit(X_one_hot,y_one_hot,batch_size=128, epochs=5, callbacks=[print_callback])"
   ]
  }
 ],
 "metadata": {
  "kernelspec": {
   "display_name": "Python 3",
   "language": "python",
   "name": "python3"
  },
  "language_info": {
   "codemirror_mode": {
    "name": "ipython",
    "version": 3
   },
   "file_extension": ".py",
   "mimetype": "text/x-python",
   "name": "python",
   "nbconvert_exporter": "python",
   "pygments_lexer": "ipython3",
   "version": "3.6.5"
  }
 },
 "nbformat": 4,
 "nbformat_minor": 2
}
